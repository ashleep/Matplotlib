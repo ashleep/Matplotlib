{
 "cells": [
  {
   "cell_type": "markdown",
   "metadata": {},
   "source": [
    "## Observations and Insights"
   ]
  },
  {
   "cell_type": "markdown",
   "metadata": {},
   "source": []
  },
  {
   "cell_type": "markdown",
   "metadata": {},
   "source": [
    "## Dependencies and starter code"
   ]
  },
  {
   "cell_type": "code",
   "execution_count": 2,
   "metadata": {},
   "outputs": [
    {
     "data": {
      "text/html": [
       "<div>\n",
       "<style scoped>\n",
       "    .dataframe tbody tr th:only-of-type {\n",
       "        vertical-align: middle;\n",
       "    }\n",
       "\n",
       "    .dataframe tbody tr th {\n",
       "        vertical-align: top;\n",
       "    }\n",
       "\n",
       "    .dataframe thead th {\n",
       "        text-align: right;\n",
       "    }\n",
       "</style>\n",
       "<table border=\"1\" class=\"dataframe\">\n",
       "  <thead>\n",
       "    <tr style=\"text-align: right;\">\n",
       "      <th></th>\n",
       "      <th>Mouse ID</th>\n",
       "      <th>Drug Regimen</th>\n",
       "      <th>Sex</th>\n",
       "      <th>Age_months</th>\n",
       "      <th>Weight (g)</th>\n",
       "      <th>Timepoint</th>\n",
       "      <th>Tumor Volume (mm3)</th>\n",
       "      <th>Metastatic Sites</th>\n",
       "    </tr>\n",
       "  </thead>\n",
       "  <tbody>\n",
       "    <tr>\n",
       "      <td>0</td>\n",
       "      <td>k403</td>\n",
       "      <td>Ramicane</td>\n",
       "      <td>Male</td>\n",
       "      <td>21</td>\n",
       "      <td>16</td>\n",
       "      <td>0</td>\n",
       "      <td>45.000000</td>\n",
       "      <td>0</td>\n",
       "    </tr>\n",
       "    <tr>\n",
       "      <td>1</td>\n",
       "      <td>k403</td>\n",
       "      <td>Ramicane</td>\n",
       "      <td>Male</td>\n",
       "      <td>21</td>\n",
       "      <td>16</td>\n",
       "      <td>5</td>\n",
       "      <td>38.825898</td>\n",
       "      <td>0</td>\n",
       "    </tr>\n",
       "    <tr>\n",
       "      <td>2</td>\n",
       "      <td>k403</td>\n",
       "      <td>Ramicane</td>\n",
       "      <td>Male</td>\n",
       "      <td>21</td>\n",
       "      <td>16</td>\n",
       "      <td>10</td>\n",
       "      <td>35.014271</td>\n",
       "      <td>1</td>\n",
       "    </tr>\n",
       "    <tr>\n",
       "      <td>3</td>\n",
       "      <td>k403</td>\n",
       "      <td>Ramicane</td>\n",
       "      <td>Male</td>\n",
       "      <td>21</td>\n",
       "      <td>16</td>\n",
       "      <td>15</td>\n",
       "      <td>34.223992</td>\n",
       "      <td>1</td>\n",
       "    </tr>\n",
       "    <tr>\n",
       "      <td>4</td>\n",
       "      <td>k403</td>\n",
       "      <td>Ramicane</td>\n",
       "      <td>Male</td>\n",
       "      <td>21</td>\n",
       "      <td>16</td>\n",
       "      <td>20</td>\n",
       "      <td>32.997729</td>\n",
       "      <td>1</td>\n",
       "    </tr>\n",
       "    <tr>\n",
       "      <td>...</td>\n",
       "      <td>...</td>\n",
       "      <td>...</td>\n",
       "      <td>...</td>\n",
       "      <td>...</td>\n",
       "      <td>...</td>\n",
       "      <td>...</td>\n",
       "      <td>...</td>\n",
       "      <td>...</td>\n",
       "    </tr>\n",
       "    <tr>\n",
       "      <td>1888</td>\n",
       "      <td>z969</td>\n",
       "      <td>Naftisol</td>\n",
       "      <td>Male</td>\n",
       "      <td>9</td>\n",
       "      <td>30</td>\n",
       "      <td>25</td>\n",
       "      <td>63.145652</td>\n",
       "      <td>2</td>\n",
       "    </tr>\n",
       "    <tr>\n",
       "      <td>1889</td>\n",
       "      <td>z969</td>\n",
       "      <td>Naftisol</td>\n",
       "      <td>Male</td>\n",
       "      <td>9</td>\n",
       "      <td>30</td>\n",
       "      <td>30</td>\n",
       "      <td>65.841013</td>\n",
       "      <td>3</td>\n",
       "    </tr>\n",
       "    <tr>\n",
       "      <td>1890</td>\n",
       "      <td>z969</td>\n",
       "      <td>Naftisol</td>\n",
       "      <td>Male</td>\n",
       "      <td>9</td>\n",
       "      <td>30</td>\n",
       "      <td>35</td>\n",
       "      <td>69.176246</td>\n",
       "      <td>4</td>\n",
       "    </tr>\n",
       "    <tr>\n",
       "      <td>1891</td>\n",
       "      <td>z969</td>\n",
       "      <td>Naftisol</td>\n",
       "      <td>Male</td>\n",
       "      <td>9</td>\n",
       "      <td>30</td>\n",
       "      <td>40</td>\n",
       "      <td>70.314904</td>\n",
       "      <td>4</td>\n",
       "    </tr>\n",
       "    <tr>\n",
       "      <td>1892</td>\n",
       "      <td>z969</td>\n",
       "      <td>Naftisol</td>\n",
       "      <td>Male</td>\n",
       "      <td>9</td>\n",
       "      <td>30</td>\n",
       "      <td>45</td>\n",
       "      <td>73.867845</td>\n",
       "      <td>4</td>\n",
       "    </tr>\n",
       "  </tbody>\n",
       "</table>\n",
       "<p>1893 rows × 8 columns</p>\n",
       "</div>"
      ],
      "text/plain": [
       "     Mouse ID Drug Regimen   Sex  Age_months  Weight (g)  Timepoint  \\\n",
       "0        k403     Ramicane  Male          21          16          0   \n",
       "1        k403     Ramicane  Male          21          16          5   \n",
       "2        k403     Ramicane  Male          21          16         10   \n",
       "3        k403     Ramicane  Male          21          16         15   \n",
       "4        k403     Ramicane  Male          21          16         20   \n",
       "...       ...          ...   ...         ...         ...        ...   \n",
       "1888     z969     Naftisol  Male           9          30         25   \n",
       "1889     z969     Naftisol  Male           9          30         30   \n",
       "1890     z969     Naftisol  Male           9          30         35   \n",
       "1891     z969     Naftisol  Male           9          30         40   \n",
       "1892     z969     Naftisol  Male           9          30         45   \n",
       "\n",
       "      Tumor Volume (mm3)  Metastatic Sites  \n",
       "0              45.000000                 0  \n",
       "1              38.825898                 0  \n",
       "2              35.014271                 1  \n",
       "3              34.223992                 1  \n",
       "4              32.997729                 1  \n",
       "...                  ...               ...  \n",
       "1888           63.145652                 2  \n",
       "1889           65.841013                 3  \n",
       "1890           69.176246                 4  \n",
       "1891           70.314904                 4  \n",
       "1892           73.867845                 4  \n",
       "\n",
       "[1893 rows x 8 columns]"
      ]
     },
     "execution_count": 2,
     "metadata": {},
     "output_type": "execute_result"
    }
   ],
   "source": [
    "# Dependencies and Setup\n",
    "import matplotlib.pyplot as plt\n",
    "import pandas as pd\n",
    "import scipy.stats as st\n",
    "import numpy as np\n",
    "\n",
    "# Study data files\n",
    "mouse_metadata = \"data/Mouse_metadata.csv\"\n",
    "study_results = \"data/Study_results.csv\"\n",
    "\n",
    "# Read the mouse data and the study results\n",
    "mouse_metadata = pd.read_csv(mouse_metadata)\n",
    "study_results = pd.read_csv(study_results)\n",
    "\n",
    "# Combine the data into a single dataset\n",
    "\n",
    "tot_df = pd.merge(mouse_metadata, study_results, on=\"Mouse ID\")\n",
    "\n",
    "tot_df"
   ]
  },
  {
   "cell_type": "markdown",
   "metadata": {},
   "source": [
    "## Summary statistics"
   ]
  },
  {
   "cell_type": "code",
   "execution_count": 3,
   "metadata": {},
   "outputs": [
    {
     "data": {
      "text/html": [
       "<div>\n",
       "<style scoped>\n",
       "    .dataframe tbody tr th:only-of-type {\n",
       "        vertical-align: middle;\n",
       "    }\n",
       "\n",
       "    .dataframe tbody tr th {\n",
       "        vertical-align: top;\n",
       "    }\n",
       "\n",
       "    .dataframe thead th {\n",
       "        text-align: right;\n",
       "    }\n",
       "</style>\n",
       "<table border=\"1\" class=\"dataframe\">\n",
       "  <thead>\n",
       "    <tr style=\"text-align: right;\">\n",
       "      <th></th>\n",
       "      <th>Mean</th>\n",
       "      <th>Median</th>\n",
       "      <th>Variance</th>\n",
       "      <th>Standard Dev</th>\n",
       "      <th>SEM</th>\n",
       "    </tr>\n",
       "    <tr>\n",
       "      <th>Drug Regimen</th>\n",
       "      <th></th>\n",
       "      <th></th>\n",
       "      <th></th>\n",
       "      <th></th>\n",
       "      <th></th>\n",
       "    </tr>\n",
       "  </thead>\n",
       "  <tbody>\n",
       "    <tr>\n",
       "      <td>Capomulin</td>\n",
       "      <td>46.119199</td>\n",
       "      <td>45.893720</td>\n",
       "      <td>1.019059</td>\n",
       "      <td>1.009485</td>\n",
       "      <td>0.201897</td>\n",
       "    </tr>\n",
       "    <tr>\n",
       "      <td>Ceftamin</td>\n",
       "      <td>57.753977</td>\n",
       "      <td>59.851956</td>\n",
       "      <td>69.982735</td>\n",
       "      <td>8.365568</td>\n",
       "      <td>1.673114</td>\n",
       "    </tr>\n",
       "    <tr>\n",
       "      <td>Infubinol</td>\n",
       "      <td>58.525392</td>\n",
       "      <td>60.165180</td>\n",
       "      <td>61.216264</td>\n",
       "      <td>7.824082</td>\n",
       "      <td>1.564816</td>\n",
       "    </tr>\n",
       "    <tr>\n",
       "      <td>Ketapril</td>\n",
       "      <td>62.806191</td>\n",
       "      <td>64.487812</td>\n",
       "      <td>98.921330</td>\n",
       "      <td>9.945920</td>\n",
       "      <td>1.989184</td>\n",
       "    </tr>\n",
       "    <tr>\n",
       "      <td>Naftisol</td>\n",
       "      <td>61.205757</td>\n",
       "      <td>63.283288</td>\n",
       "      <td>106.029927</td>\n",
       "      <td>10.297083</td>\n",
       "      <td>2.059417</td>\n",
       "    </tr>\n",
       "    <tr>\n",
       "      <td>Placebo</td>\n",
       "      <td>60.508414</td>\n",
       "      <td>62.030594</td>\n",
       "      <td>78.759797</td>\n",
       "      <td>8.874672</td>\n",
       "      <td>1.774934</td>\n",
       "    </tr>\n",
       "    <tr>\n",
       "      <td>Propriva</td>\n",
       "      <td>56.736964</td>\n",
       "      <td>55.841410</td>\n",
       "      <td>69.349002</td>\n",
       "      <td>8.327605</td>\n",
       "      <td>1.665521</td>\n",
       "    </tr>\n",
       "    <tr>\n",
       "      <td>Ramicane</td>\n",
       "      <td>45.678645</td>\n",
       "      <td>45.521875</td>\n",
       "      <td>0.587093</td>\n",
       "      <td>0.766220</td>\n",
       "      <td>0.153244</td>\n",
       "    </tr>\n",
       "    <tr>\n",
       "      <td>Stelasyn</td>\n",
       "      <td>61.001707</td>\n",
       "      <td>62.192350</td>\n",
       "      <td>90.331586</td>\n",
       "      <td>9.504293</td>\n",
       "      <td>1.940056</td>\n",
       "    </tr>\n",
       "    <tr>\n",
       "      <td>Zoniferol</td>\n",
       "      <td>59.181258</td>\n",
       "      <td>61.840058</td>\n",
       "      <td>76.862027</td>\n",
       "      <td>8.767099</td>\n",
       "      <td>1.753420</td>\n",
       "    </tr>\n",
       "  </tbody>\n",
       "</table>\n",
       "</div>"
      ],
      "text/plain": [
       "                   Mean     Median    Variance  Standard Dev       SEM\n",
       "Drug Regimen                                                          \n",
       "Capomulin     46.119199  45.893720    1.019059      1.009485  0.201897\n",
       "Ceftamin      57.753977  59.851956   69.982735      8.365568  1.673114\n",
       "Infubinol     58.525392  60.165180   61.216264      7.824082  1.564816\n",
       "Ketapril      62.806191  64.487812   98.921330      9.945920  1.989184\n",
       "Naftisol      61.205757  63.283288  106.029927     10.297083  2.059417\n",
       "Placebo       60.508414  62.030594   78.759797      8.874672  1.774934\n",
       "Propriva      56.736964  55.841410   69.349002      8.327605  1.665521\n",
       "Ramicane      45.678645  45.521875    0.587093      0.766220  0.153244\n",
       "Stelasyn      61.001707  62.192350   90.331586      9.504293  1.940056\n",
       "Zoniferol     59.181258  61.840058   76.862027      8.767099  1.753420"
      ]
     },
     "execution_count": 3,
     "metadata": {},
     "output_type": "execute_result"
    }
   ],
   "source": [
    "# Generate a summary statistics table of mean, median, variance, \n",
    "#standard deviation, and SEM of the tumor volume for each regimen\n",
    "\n",
    "\n",
    "sum_df = tot_df[[\"Mouse ID\",\"Timepoint\",\"Tumor Volume (mm3)\"]]\n",
    "\n",
    "sum_df = sum_df.groupby([\"Mouse ID\"]).max()\n",
    "\n",
    "ID_and_regimen = mouse_metadata[[\"Mouse ID\", \"Drug Regimen\"]]\n",
    "\n",
    "\n",
    "data_df = pd.merge(sum_df, ID_and_regimen, on=\"Mouse ID\")\n",
    "data_df = data_df[[\"Drug Regimen\", \"Tumor Volume (mm3)\"]] \n",
    "\n",
    "mean_df = data_df.copy()\n",
    "mean_df = mean_df.groupby([\"Drug Regimen\"]).mean()\n",
    "mean_df = mean_df.rename(columns={\"Tumor Volume (mm3)\": \"Mean\"})\n",
    "\n",
    "median_df = data_df.copy()\n",
    "median_df = median_df.groupby([\"Drug Regimen\"]).median()\n",
    "median_df = median_df.rename(columns={\"Tumor Volume (mm3)\": \"Median\"})\n",
    "\n",
    "var_df = data_df.copy()\n",
    "var_df = var_df.groupby([\"Drug Regimen\"]).var()\n",
    "var_df = var_df.rename(columns={\"Tumor Volume (mm3)\": \"Variance\"})\n",
    "\n",
    "std_dev_df = data_df.copy()\n",
    "std_dev_df = std_dev_df.groupby([\"Drug Regimen\"]).std()\n",
    "std_dev_df = std_dev_df.rename(columns={\"Tumor Volume (mm3)\": \"Standard Dev\"})\n",
    "\n",
    "sem_df = data_df.copy()\n",
    "sem_df = sem_df.groupby([\"Drug Regimen\"]).sem()\n",
    "sem_df = sem_df.rename(columns={\"Tumor Volume (mm3)\": \"SEM\"})\n",
    "\n",
    "\n",
    "sum_table = pd.merge(mean_df, median_df, on=\"Drug Regimen\")\n",
    "sum_table = pd.merge(sum_table, var_df, on=\"Drug Regimen\")\n",
    "sum_table = pd.merge(sum_table, std_dev_df, on=\"Drug Regimen\")\n",
    "sum_table = pd.merge(sum_table, sem_df, on=\"Drug Regimen\")\n",
    "\n",
    "\n",
    "#Sum table math is based on largest tumor size recorded\n",
    "sum_table\n"
   ]
  },
  {
   "cell_type": "markdown",
   "metadata": {},
   "source": [
    "## Bar plots"
   ]
  },
  {
   "cell_type": "code",
   "execution_count": 4,
   "metadata": {},
   "outputs": [
    {
     "data": {
      "image/png": "[encoded data removed]",
      "text/plain": [
       "<Figure size 432x288 with 1 Axes>"
      ]
     },
     "metadata": {
      "needs_background": "light"
     },
     "output_type": "display_data"
    }
   ],
   "source": [
    "# Generate a bar plot showing number of data points for each treatment regimen using pandas\n",
    "data_points_pd = tot_df[[\"Drug Regimen\",\"Mouse ID\"]]\n",
    "\n",
    "data_points_pd = data_points_pd.groupby(\"Drug Regimen\").count()\n",
    "\n",
    "data_points_pd = data_points_pd.rename(columns={\"Mouse ID\":\"Number of Data Points\"})\n",
    "\n",
    "data_points_pd = data_points_pd.reset_index()\n",
    "\n",
    "pandas_bar = data_points_pd.plot.bar(x=\"Drug Regimen\", y='Number of Data Points', rot=90)\n"
   ]
  },
  {
   "cell_type": "code",
   "execution_count": 5,
   "metadata": {},
   "outputs": [
    {
     "data": {
      "text/plain": [
       "([0, 1, 2, 3, 4, 5, 6, 7, 8, 9], <a list of 10 Text xticklabel objects>)"
      ]
     },
     "execution_count": 5,
     "metadata": {},
     "output_type": "execute_result"
    },
    {
     "data": {
      "image/png": "[encoded data removed]",
      "text/plain": [
       "<Figure size 432x288 with 1 Axes>"
      ]
     },
     "metadata": {
      "needs_background": "light"
     },
     "output_type": "display_data"
    }
   ],
   "source": [
    "# Generate a bar plot showing number of data points for each treatment regimen using pyplot\n",
    "\n",
    "plt.bar(data_points_pd[\"Drug Regimen\"], data_points_pd[\"Number of Data Points\"], color = 'r', alpha = 0.5, align = \"center\")\n",
    "\n",
    "plt.title(\"Number of Data Points per Drug Regimen\")\n",
    "plt.xlabel(\"Drug Regimen\")\n",
    "plt.xticks(rotation='vertical')\n",
    "\n"
   ]
  },
  {
   "cell_type": "markdown",
   "metadata": {},
   "source": [
    "## Pie plots"
   ]
  },
  {
   "cell_type": "code",
   "execution_count": 6,
   "metadata": {},
   "outputs": [
    {
     "data": {
      "text/html": [
       "<div>\n",
       "<style scoped>\n",
       "    .dataframe tbody tr th:only-of-type {\n",
       "        vertical-align: middle;\n",
       "    }\n",
       "\n",
       "    .dataframe tbody tr th {\n",
       "        vertical-align: top;\n",
       "    }\n",
       "\n",
       "    .dataframe thead th {\n",
       "        text-align: right;\n",
       "    }\n",
       "</style>\n",
       "<table border=\"1\" class=\"dataframe\">\n",
       "  <thead>\n",
       "    <tr style=\"text-align: right;\">\n",
       "      <th></th>\n",
       "      <th>Data</th>\n",
       "    </tr>\n",
       "    <tr>\n",
       "      <th>Sex</th>\n",
       "      <th></th>\n",
       "    </tr>\n",
       "  </thead>\n",
       "  <tbody>\n",
       "    <tr>\n",
       "      <td>Female</td>\n",
       "      <td>124</td>\n",
       "    </tr>\n",
       "    <tr>\n",
       "      <td>Male</td>\n",
       "      <td>125</td>\n",
       "    </tr>\n",
       "  </tbody>\n",
       "</table>\n",
       "</div>"
      ],
      "text/plain": [
       "        Data\n",
       "Sex         \n",
       "Female   124\n",
       "Male     125"
      ]
     },
     "execution_count": 6,
     "metadata": {},
     "output_type": "execute_result"
    },
    {
     "data": {
      "image/png": "[encoded data removed]",
      "text/plain": [
       "<Figure size 360x360 with 1 Axes>"
      ]
     },
     "metadata": {},
     "output_type": "display_data"
    }
   ],
   "source": [
    "# Generate a pie plot showing the distribution of female versus male mice using pandas\n",
    "pie_plot_pd = mouse_metadata[[\"Mouse ID\", \"Sex\"]]\n",
    "pie_plot_pd = pie_plot_pd.groupby(\"Sex\").count()\n",
    "pie_plot_pd = pie_plot_pd.rename(columns={\"Mouse ID\":\"Data\"})\n",
    "\n",
    "\n",
    "pandas_pie = pie_plot_pd.plot.pie(y=\"Data\", figsize = (5,5))\n",
    "\n",
    "pie_plot_pd"
   ]
  },
  {
   "cell_type": "code",
   "execution_count": 7,
   "metadata": {},
   "outputs": [
    {
     "data": {
      "text/plain": [
       "([<matplotlib.patches.Wedge at 0x1926702a108>,\n",
       "  <matplotlib.patches.Wedge at 0x1926702ad48>],\n",
       " [Text(0.006939175976765795, 1.0999781124353174, 'Female'),\n",
       "  Text(-0.006939175976765929, -1.0999781124353174, 'Male')],\n",
       " [Text(0.0037850050782358875, 0.5999880613283548, '49.8%'),\n",
       "  Text(-0.003785005078235961, -0.5999880613283548, '50.2%')])"
      ]
     },
     "execution_count": 7,
     "metadata": {},
     "output_type": "execute_result"
    },
    {
     "data": {
      "image/png": "[encoded data removed]",
      "text/plain": [
       "<Figure size 432x288 with 1 Axes>"
      ]
     },
     "metadata": {},
     "output_type": "display_data"
    }
   ],
   "source": [
    "# Generate a pie plot showing the distribution of female versus male mice using pyplot\n",
    "\n",
    "pie_plot_pd = pie_plot_pd.reset_index()\n",
    "\n",
    "colors = [\"pink\", \"lightskyblue\"]\n",
    "\n",
    "plt.pie(pie_plot_pd[\"Data\"], labels=pie_plot_pd[\"Sex\"], autopct=\"%1.1f%%\",colors = colors)\n"
   ]
  },
  {
   "cell_type": "markdown",
   "metadata": {},
   "source": [
    "## Quartiles, outliers and boxplots"
   ]
  },
  {
   "cell_type": "code",
   "execution_count": 8,
   "metadata": {},
   "outputs": [
    {
     "name": "stdout",
     "output_type": "stream",
     "text": [
      "the best drugs are: ['Ramicane', 'Capomulin', 'Infubinol', 'Ceftamin']\n",
      "The lower quartile of volume is: 37.187743802499995\n",
      "The upper quartile of volume is: 59.930261755000004\n",
      "The interquartile range of volume is: 22.74251795250001\n",
      "The the median of volume is: 45.0 \n"
     ]
    },
    {
     "data": {
      "image/png": "[encoded data removed]",
      "text/plain": [
       "<Figure size 432x288 with 1 Axes>"
      ]
     },
     "metadata": {
      "needs_background": "light"
     },
     "output_type": "display_data"
    }
   ],
   "source": [
    "# Calculate the final tumor volume of each mouse across four of the most promising treatment regimens. \n",
    "#Calculate the IQR and quantitatively determine if there are any potential outliers. \n",
    "\n",
    "# Finding top 4 drug regimens by lowest tumor growth rate over time.\n",
    "final_V = tot_df.copy()\n",
    "final_V = final_V[[\"Mouse ID\",\"Drug Regimen\", \"Timepoint\", \"Tumor Volume (mm3)\"]]\n",
    "\n",
    "best_drug = mouse_metadata[[\"Mouse ID\", \"Drug Regimen\"]]\n",
    "\n",
    "max_time = final_V[[\"Mouse ID\",\"Timepoint\"]]\n",
    "max_time = max_time.groupby(\"Mouse ID\").max()\n",
    "\n",
    "best_drug = pd.merge(best_drug, max_time, on = \"Mouse ID\")\n",
    "\n",
    "tumor_start = final_V[[\"Mouse ID\", \"Tumor Volume (mm3)\"]]\n",
    "tumor_start = tumor_start.groupby(\"Mouse ID\").first()\n",
    "\n",
    "best_drug = pd.merge(best_drug, tumor_start, on = \"Mouse ID\")\n",
    "best_drug = best_drug.rename(columns = {\"Tumor Volume (mm3)\":\"Start Volume\"} )\n",
    "\n",
    "tumor_end = final_V[[\"Mouse ID\", \"Tumor Volume (mm3)\"]]\n",
    "tumor_end = tumor_end.groupby(\"Mouse ID\").last()\n",
    "\n",
    "best_drug = pd.merge(best_drug, tumor_end, on = \"Mouse ID\")\n",
    "best_drug = best_drug.rename(columns = {\"Tumor Volume (mm3)\":\"Final Volume\"} )\n",
    "\n",
    "best_drug.loc[:,\"Rate of Change in Volume\"] = (best_drug.loc[:,\"Final Volume\"]-best_drug.loc[:,\"Start Volume\"])/best_drug.loc[:,\"Timepoint\"]\n",
    "\n",
    "best_drug = best_drug[[\"Drug Regimen\", \"Rate of Change in Volume\"]]\n",
    "\n",
    "best_drug = best_drug.groupby(\"Drug Regimen\").mean()\n",
    "\n",
    "best_drug = best_drug.sort_values(by=[\"Rate of Change in Volume\"])\n",
    "\n",
    "best_drug = best_drug.reset_index()\n",
    "best_drug_ls = [best_drug.loc[0,\"Drug Regimen\"],best_drug.loc[1,\"Drug Regimen\"],best_drug.loc[2,\"Drug Regimen\"],best_drug.loc[3,\"Drug Regimen\"]]\n",
    "\n",
    "print(f\"the best drugs are: {best_drug_ls}\")\n",
    "\n",
    "tumor_end = final_V[[\"Mouse ID\", \"Tumor Volume (mm3)\",\"Drug Regimen\"]]\n",
    "tumor_end = tumor_end.groupby(\"Mouse ID\").last()\n",
    "\n",
    "final_tumor = tumor_end[(tumor_end[\"Drug Regimen\"] == best_drug_ls[0]) | (tumor_end[\"Drug Regimen\"] == best_drug_ls[1]) | (tumor_end[\"Drug Regimen\"] == best_drug_ls[2])| (tumor_end[\"Drug Regimen\"] == best_drug_ls[3])]\n",
    "final_tumor = final_tumor.rename(columns={\"Tumor Volume (mm3)\":\"Final Volume\"})\n",
    "final_tumor = final_tumor.reset_index().drop(columns=[\"Mouse ID\"])\n",
    "\n",
    "#IQR stuff\n",
    "quartiles = final_tumor.quantile([.25,.5,.75])\n",
    "lowerq = quartiles.loc[0.25, \"Final Volume\"]\n",
    "upperq = quartiles.loc[0.75, \"Final Volume\"]\n",
    "iqr = upperq-lowerq\n",
    "mean = quartiles.loc[0.5, \"Final Volume\"]\n",
    "\n",
    "print(f\"The lower quartile of volume is: {lowerq}\")\n",
    "print(f\"The upper quartile of volume is: {upperq}\")\n",
    "print(f\"The interquartile range of volume is: {iqr}\")\n",
    "print(f\"The the median of volume is: {mean} \")\n",
    "\n",
    "\n",
    "\n",
    "final_tumor = final_tumor.sort_values(by='Final Volume', ascending=False)\n",
    "fig1, ax1 = plt.subplots()\n",
    "ax1.set_title('Final Tumor Volume')\n",
    "ax1.set_ylabel('Volume (mm3)')\n",
    "ax1.boxplot(final_tumor[\"Final Volume\"])\n",
    "plt.show()\n"
   ]
  },
  {
   "cell_type": "code",
   "execution_count": 35,
   "metadata": {},
   "outputs": [
    {
     "data": {
      "image/png": "[encoded data removed]",
      "text/plain": [
       "<Figure size 432x288 with 1 Axes>"
      ]
     },
     "metadata": {
      "needs_background": "light"
     },
     "output_type": "display_data"
    }
   ],
   "source": [
    "# Generate a box plot of the final tumor volume of each mouse across four regimens of interest\n",
    "\n",
    "plot = final_tumor.boxplot(by = 'Drug Regimen')\n",
    "plt.title('Final Tumor Volume by Drug Regiment')\n",
    "plt.suptitle(\"\")\n",
    "plt.ylabel('Volume (mm3)')\n",
    "#ax1.boxplot(final_tumor[\"Final Volume\"])\n",
    "plt.show()"
   ]
  },
  {
   "cell_type": "markdown",
   "metadata": {},
   "source": [
    "## Line and scatter plots"
   ]
  },
  {
   "cell_type": "code",
   "execution_count": 36,
   "metadata": {},
   "outputs": [
    {
     "data": {
      "image/png": "[encoded data removed]",
      "text/plain": [
       "<Figure size 432x288 with 1 Axes>"
      ]
     },
     "metadata": {
      "needs_background": "light"
     },
     "output_type": "display_data"
    },
    {
     "data": {
      "text/html": [
       "<div>\n",
       "<style scoped>\n",
       "    .dataframe tbody tr th:only-of-type {\n",
       "        vertical-align: middle;\n",
       "    }\n",
       "\n",
       "    .dataframe tbody tr th {\n",
       "        vertical-align: top;\n",
       "    }\n",
       "\n",
       "    .dataframe thead th {\n",
       "        text-align: right;\n",
       "    }\n",
       "</style>\n",
       "<table border=\"1\" class=\"dataframe\">\n",
       "  <thead>\n",
       "    <tr style=\"text-align: right;\">\n",
       "      <th></th>\n",
       "      <th>Timepoint</th>\n",
       "      <th>Tumor Volume (mm3)</th>\n",
       "    </tr>\n",
       "  </thead>\n",
       "  <tbody>\n",
       "    <tr>\n",
       "      <td>20</td>\n",
       "      <td>0</td>\n",
       "      <td>45.000000</td>\n",
       "    </tr>\n",
       "    <tr>\n",
       "      <td>21</td>\n",
       "      <td>5</td>\n",
       "      <td>45.473753</td>\n",
       "    </tr>\n",
       "    <tr>\n",
       "      <td>22</td>\n",
       "      <td>10</td>\n",
       "      <td>39.113891</td>\n",
       "    </tr>\n",
       "    <tr>\n",
       "      <td>23</td>\n",
       "      <td>15</td>\n",
       "      <td>39.776250</td>\n",
       "    </tr>\n",
       "    <tr>\n",
       "      <td>24</td>\n",
       "      <td>20</td>\n",
       "      <td>36.065835</td>\n",
       "    </tr>\n",
       "    <tr>\n",
       "      <td>25</td>\n",
       "      <td>25</td>\n",
       "      <td>36.617120</td>\n",
       "    </tr>\n",
       "    <tr>\n",
       "      <td>26</td>\n",
       "      <td>30</td>\n",
       "      <td>32.915292</td>\n",
       "    </tr>\n",
       "    <tr>\n",
       "      <td>27</td>\n",
       "      <td>35</td>\n",
       "      <td>30.206825</td>\n",
       "    </tr>\n",
       "    <tr>\n",
       "      <td>28</td>\n",
       "      <td>40</td>\n",
       "      <td>28.167397</td>\n",
       "    </tr>\n",
       "    <tr>\n",
       "      <td>29</td>\n",
       "      <td>45</td>\n",
       "      <td>28.484033</td>\n",
       "    </tr>\n",
       "  </tbody>\n",
       "</table>\n",
       "</div>"
      ],
      "text/plain": [
       "    Timepoint  Tumor Volume (mm3)\n",
       "20          0           45.000000\n",
       "21          5           45.473753\n",
       "22         10           39.113891\n",
       "23         15           39.776250\n",
       "24         20           36.065835\n",
       "25         25           36.617120\n",
       "26         30           32.915292\n",
       "27         35           30.206825\n",
       "28         40           28.167397\n",
       "29         45           28.484033"
      ]
     },
     "execution_count": 36,
     "metadata": {},
     "output_type": "execute_result"
    }
   ],
   "source": [
    "# Generate a line plot of time point versus tumor volume for a mouse treated with Capomulin\n",
    "\n",
    "capomul_mouse = tot_df[[\"Mouse ID\", \"Timepoint\", \"Tumor Volume (mm3)\"]]\n",
    "\n",
    "# using x401 as the mouse in question\n",
    "capomul_mouse = capomul_mouse.loc[(capomul_mouse[\"Mouse ID\"] == \"x401\")]\n",
    "\n",
    "capomul_mouse = capomul_mouse.drop(columns=[\"Mouse ID\"])\n",
    "\n",
    "plt.plot(capomul_mouse[\"Timepoint\"],capomul_mouse[\"Tumor Volume (mm3)\"])\n",
    "plt.show()\n",
    "\n",
    "capomul_mouse\n",
    "\n"
   ]
  },
  {
   "cell_type": "code",
   "execution_count": 37,
   "metadata": {},
   "outputs": [
    {
     "data": {
      "text/plain": [
       "Text(0, 0.5, 'Tumor Volume (mm3)')"
      ]
     },
     "execution_count": 37,
     "metadata": {},
     "output_type": "execute_result"
    },
    {
     "data": {
      "image/png": "[encoded data removed]",
      "text/plain": [
       "<Figure size 432x288 with 1 Axes>"
      ]
     },
     "metadata": {
      "needs_background": "light"
     },
     "output_type": "display_data"
    }
   ],
   "source": [
    "# Generate a scatter plot of mouse weight versus average tumor volume for the Capomulin regimen\n",
    "\n",
    "w_vs_v = tot_df.copy()\n",
    "\n",
    "w_vs_v = w_vs_v[[\"Mouse ID\",\"Drug Regimen\", \"Tumor Volume (mm3)\",\"Weight (g)\"]]\n",
    "w_vs_v = w_vs_v.loc[(w_vs_v[\"Drug Regimen\"] == \"Capomulin\")]\n",
    "w_vs_v = w_vs_v.groupby(\"Mouse ID\").mean()\n",
    "\n",
    "plt.scatter(w_vs_v[\"Weight (g)\"], w_vs_v[\"Tumor Volume (mm3)\"])\n",
    "plt.title(\"Mouse Weight Versus Average Tumor Volume for the Capomulin Regimen\")\n",
    "plt.xlabel(\"Mouse Weight (g)\")\n",
    "plt.ylabel(\"Tumor Volume (mm3)\")\n",
    "\n",
    "\n"
   ]
  },
  {
   "cell_type": "code",
   "execution_count": 38,
   "metadata": {},
   "outputs": [
    {
     "name": "stdout",
     "output_type": "stream",
     "text": [
      "The correlation between both factors is 0.84\n"
     ]
    },
    {
     "data": {
      "image/png": "[encoded data removed]",
      "text/plain": [
       "<Figure size 432x288 with 1 Axes>"
      ]
     },
     "metadata": {
      "needs_background": "light"
     },
     "output_type": "display_data"
    }
   ],
   "source": [
    "# Calculate the correlation coefficient and linear regression model \n",
    "#for mouse weight and average tumor volume for the Capomulin regimen\n",
    "\n",
    "#determine correlation, code from activity used as baseline\n",
    "correlation = st.pearsonr(w_vs_v[\"Weight (g)\"], w_vs_v[\"Tumor Volume (mm3)\"])\n",
    "print(f\"The correlation between both factors is {round(correlation[0],2)}\")\n",
    "\n",
    "#show linear regression, code from activity used as baseline\n",
    "(slope, intercept, rvalue, pvalue, stderr) = st.linregress(w_vs_v[\"Weight (g)\"], w_vs_v[\"Tumor Volume (mm3)\"])\n",
    "regress_values = w_vs_v[\"Weight (g)\"] * slope + intercept\n",
    "plt.scatter(w_vs_v[\"Weight (g)\"], w_vs_v[\"Tumor Volume (mm3)\"])\n",
    "plt.plot(w_vs_v[\"Weight (g)\"],regress_values,\"r-\")\n",
    "plt.title(\"Mouse Weight Versus Average Tumor Volume for the Capomulin Regimen\")\n",
    "plt.xlabel(\"Mouse Weight (g)\")\n",
    "plt.ylabel(\"Tumor Volume (mm3)\")\n",
    "plt.show()\n"
   ]
  },
  {
   "cell_type": "code",
   "execution_count": null,
   "metadata": {},
   "outputs": [],
   "source": []
  }
 ],
 "metadata": {
  "anaconda-cloud": {},
  "kernelspec": {
   "display_name": "Python 3",
   "language": "python",
   "name": "python3"
  },
  "language_info": {
   "codemirror_mode": {
    "name": "ipython",
    "version": 3
   },
   "file_extension": ".py",
   "mimetype": "text/x-python",
   "name": "python",
   "nbconvert_exporter": "python",
   "pygments_lexer": "ipython3",
   "version": "3.7.4"
  }
 },
 "nbformat": 4,
 "nbformat_minor": 2
}
